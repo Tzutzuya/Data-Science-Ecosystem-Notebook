{
 "cells": [
  {
   "cell_type": "markdown",
   "id": "c3abf932-c58d-4f29-bca8-f0005074f3e5",
   "metadata": {},
   "source": [
    "# Data Science Tools and Ecosystems"
   ]
  },
  {
   "cell_type": "markdown",
   "id": "714ee3fa-0689-4dbd-b1ba-6fa2c2d332d2",
   "metadata": {},
   "source": [
    "In this notebook, Data Science Tools and Ecosystem are summarized."
   ]
  },
  {
   "cell_type": "markdown",
   "id": "34a7406b-d800-4d5d-b54a-50cd8d0801fb",
   "metadata": {},
   "source": [
    "Some of the popular languages that Data Scientists use are:  \n",
    "1. Python  \n",
    "2. R  \n",
    "3. MySQL"
   ]
  },
  {
   "cell_type": "markdown",
   "id": "a3f15d3f-e349-427d-bf79-070af6f5e048",
   "metadata": {},
   "source": [
    "Some of the commonly used libraries used by Data Scientists include:  \n",
    "1. TensorFlow  \n",
    "2. PyTorch  \n",
    "3. Pandas"
   ]
  },
  {
   "cell_type": "markdown",
   "id": "71e79ab1-fb37-48b9-a705-65a97bf0da33",
   "metadata": {},
   "source": [
    "| Data Science Tools |\n",
    "|--------------------|\n",
    "| Jupyter Lab |\n",
    "| Apache Spark |\n",
    "| Tableau |"
   ]
  },
  {
   "cell_type": "markdown",
   "id": "f8cab429-fb14-4aa3-bc2d-f8f896fe884f",
   "metadata": {},
   "source": [
    "Below are a few examples of evaluating arithmetic expressions in Python  \n",
    "Addition : 1 + 1 = 2  \n",
    "Subtraction : 2 - 1 = 1  \n",
    "Division : 4/2 = 2  \n",
    "Multiplication : 2*2 = 4"
   ]
  },
  {
   "cell_type": "code",
   "execution_count": null,
   "id": "f3e6d8fe-2740-4d5a-ad59-70f9bbcdddca",
   "metadata": {},
   "outputs": [],
   "source": [
    "# This a simple arithmetic expression to mutiply then add integers\n",
    "(3*4)+5"
   ]
  },
  {
   "cell_type": "code",
   "execution_count": null,
   "id": "eabfed3b-a6b9-439e-91bd-7d0661a3fc31",
   "metadata": {},
   "outputs": [],
   "source": [
    "# This will convert 200 minutes to hours by diving by 60.\n",
    "minutes_to_hours = 200/60"
   ]
  },
  {
   "cell_type": "markdown",
   "id": "6d0b6b9f-d316-4f2b-a415-e58dda03cb3e",
   "metadata": {},
   "source": [
    "**Objectives:**  \n",
    "* To Sort and Analyze Data  \n",
    "* To reach conclusions to optimise processes  \n",
    "* Interactive Visualization of Data"
   ]
  },
  {
   "cell_type": "markdown",
   "id": "34f0a8bf-22a7-4535-81a8-3872e7c4bc6c",
   "metadata": {},
   "source": [
    "## Author  \n",
    "Tanya"
   ]
  }
 ],
 "metadata": {
  "kernelspec": {
   "display_name": "Python",
   "language": "python",
   "name": "conda-env-python-py"
  },
  "language_info": {
   "codemirror_mode": {
    "name": "ipython",
    "version": 3
   },
   "file_extension": ".py",
   "mimetype": "text/x-python",
   "name": "python",
   "nbconvert_exporter": "python",
   "pygments_lexer": "ipython3",
   "version": "3.7.12"
  }
 },
 "nbformat": 4,
 "nbformat_minor": 5
}
